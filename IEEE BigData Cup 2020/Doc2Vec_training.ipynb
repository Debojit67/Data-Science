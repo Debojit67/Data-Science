{
  "nbformat": 4,
  "nbformat_minor": 0,
  "metadata": {
    "kernelspec": {
      "language": "python",
      "display_name": "Python 3",
      "name": "python3"
    },
    "language_info": {
      "pygments_lexer": "ipython3",
      "nbconvert_exporter": "python",
      "version": "3.6.4",
      "file_extension": ".py",
      "codemirror_mode": {
        "name": "ipython",
        "version": 3
      },
      "name": "python",
      "mimetype": "text/x-python"
    },
    "colab": {
      "name": "Doc2Vec_training.ipynb",
      "provenance": [],
      "collapsed_sections": [],
      "machine_shape": "hm"
    }
  },
  "cells": [
    {
      "cell_type": "code",
      "metadata": {
        "id": "sF70b9OyVNw5",
        "outputId": "259b527c-e6e2-400b-899d-0ee54fc240a6",
        "colab": {
          "base_uri": "https://localhost:8080/",
          "height": 51
        }
      },
      "source": [
        "from google.colab import drive\n",
        "drive.mount('/gdrive')\n",
        "%cd /gdrive/My Drive/Dataset/'Customer Escalations' \n"
      ],
      "execution_count": 1,
      "outputs": [
        {
          "output_type": "stream",
          "text": [
            "Drive already mounted at /gdrive; to attempt to forcibly remount, call drive.mount(\"/gdrive\", force_remount=True).\n",
            "/gdrive/My Drive/Dataset/Customer Escalations\n"
          ],
          "name": "stdout"
        }
      ]
    },
    {
      "cell_type": "code",
      "metadata": {
        "id": "tFN6EcSvVQAW"
      },
      "source": [
        "import pandas as pd\n",
        "import numpy as np\n",
        "import random\n",
        "from collections import Counter\n",
        "import gensim\n",
        "from gensim.models import Doc2Vec\n",
        "import seaborn as sns"
      ],
      "execution_count": 2,
      "outputs": []
    },
    {
      "cell_type": "code",
      "metadata": {
        "id": "QVQr-6yLVr2E",
        "outputId": "2f4a17ea-dc46-451e-cd7f-b62460c3b1a6",
        "colab": {
          "base_uri": "https://localhost:8080/",
          "height": 71
        }
      },
      "source": [
        "challenge=pd.read_csv('challenge_dictionary_info.csv')\n",
        "case_status=pd.read_csv('IBI_case_status_history_v2.csv')\n",
        "case_comments=pd.read_csv('IBI_case_comments_anonymized.csv')\n",
        "case_metadata=pd.read_csv('IBI_case_metadata_anonymized.csv')\n",
        "case_milestones=pd.read_csv('IBI_case_milestones_anonymized.csv')\n",
        "id2_lemma=pd.read_csv(\"id_to_lemma_public_translations.csv\")\n"
      ],
      "execution_count": 3,
      "outputs": [
        {
          "output_type": "stream",
          "text": [
            "/usr/local/lib/python3.6/dist-packages/IPython/core/interactiveshell.py:2718: DtypeWarning: Columns (4) have mixed types.Specify dtype option on import or set low_memory=False.\n",
            "  interactivity=interactivity, compiler=compiler, result=result)\n"
          ],
          "name": "stderr"
        }
      ]
    },
    {
      "cell_type": "code",
      "metadata": {
        "id": "uaRYZOmWuJNq"
      },
      "source": [
        "def reduce_mem_usage(df):\n",
        "    \"\"\" iterate through all the columns of a dataframe and modify the data type\n",
        "        to reduce memory usage.        \n",
        "    \"\"\"\n",
        "    start_mem = df.memory_usage().sum() / 1024**2\n",
        "    print('Memory usage of dataframe is {:.2f} MB'.format(start_mem))\n",
        "    \n",
        "    for col in df.columns:\n",
        "        col_type = df[col].dtype\n",
        "        \n",
        "        if col_type != object:\n",
        "            c_min = df[col].min()\n",
        "            c_max = df[col].max()\n",
        "            if str(col_type)[:3] == 'int':\n",
        "                if c_min > np.iinfo(np.int8).min and c_max < np.iinfo(np.int8).max:\n",
        "                    df[col] = df[col].astype(np.int8)\n",
        "                elif c_min > np.iinfo(np.int16).min and c_max < np.iinfo(np.int16).max:\n",
        "                    df[col] = df[col].astype(np.int16)\n",
        "                elif c_min > np.iinfo(np.int32).min and c_max < np.iinfo(np.int32).max:\n",
        "                    df[col] = df[col].astype(np.int32)\n",
        "                elif c_min > np.iinfo(np.int64).min and c_max < np.iinfo(np.int64).max:\n",
        "                    df[col] = df[col].astype(np.int64)  \n",
        "            else:\n",
        "                if c_min > np.finfo(np.float16).min and c_max < np.finfo(np.float16).max:\n",
        "                    df[col] = df[col].astype(np.float16)\n",
        "                elif c_min > np.finfo(np.float32).min and c_max < np.finfo(np.float32).max:\n",
        "                    df[col] = df[col].astype(np.float32)\n",
        "                else:\n",
        "                    df[col] = df[col].astype(np.float64)\n",
        "        else:\n",
        "            df[col] = df[col].astype('category')\n",
        "\n",
        "    end_mem = df.memory_usage().sum() / 1024**2\n",
        "    print('Memory usage after optimization is: {:.2f} MB'.format(end_mem))\n",
        "    print('Decreased by {:.1f}%'.format(100 * (start_mem - end_mem) / start_mem))\n",
        "    \n",
        "    return df\n",
        "   "
      ],
      "execution_count": 4,
      "outputs": []
    },
    {
      "cell_type": "code",
      "metadata": {
        "id": "hkHlHvSsVP8w",
        "outputId": "aafce97e-3d3b-4145-cd89-877c18909abf",
        "colab": {
          "base_uri": "https://localhost:8080/",
          "height": 34
        }
      },
      "source": [
        "corpus=[]\n",
        "tmp_dict=dict(zip(challenge['id'].values,challenge['pos'].values))\n",
        "tmp_dict1=dict(zip(id2_lemma['id'].values,id2_lemma['lemma'].values))\n",
        "pos=[]\n",
        "gram=['ADP','PROPN','PUNCT','PRON','DET','CCONJ','AUX','SCONJ','SPACE','ADV']\n",
        "\n",
        "for cols in ['NOTEDESCRIPTION','MILESTONEDESCRIPTION']:\n",
        "  tmp=case_milestones[cols].values;pos=[]\n",
        "  for val in tmp:\n",
        "    tmp1=[k for k in val.split(\" \")  if tmp_dict[k] not in gram and k not in id2_lemma['id'].values]\n",
        "    pos.append(tmp1)\n",
        "  corpus.extend(pos)\n",
        "tmp=case_comments['NOTES'].values;pos=[]\n",
        "for val in tmp:\n",
        "    tmp1=[k for k in val.split(\" \")  if tmp_dict[k] not in gram and k not in id2_lemma['id'].values]\n",
        "    pos.append(tmp1)\n",
        "corpus.extend(pos)\n",
        "\n",
        "len(corpus)"
      ],
      "execution_count": 5,
      "outputs": [
        {
          "output_type": "execute_result",
          "data": {
            "text/plain": [
              "2759523"
            ]
          },
          "metadata": {
            "tags": []
          },
          "execution_count": 5
        }
      ]
    },
    {
      "cell_type": "code",
      "metadata": {
        "id": "vHKkA-DJVP4Y",
        "outputId": "fc9c2931-82ad-48c6-a5ed-7cc9ad22f157",
        "colab": {
          "base_uri": "https://localhost:8080/",
          "height": 88
        }
      },
      "source": [
        "%%time\n",
        "\n",
        "embed_size=100\n",
        "\n",
        "def create_tagged_document(list_of_list_of_words):\n",
        "    for i, list_of_words in enumerate(list_of_list_of_words):\n",
        "        yield gensim.models.doc2vec.TaggedDocument(list_of_words, [i])\n",
        "\n",
        "train_txt = list(create_tagged_document(corpus))\n",
        "\n",
        "print(train_txt[:1])\n",
        "model = Doc2Vec(train_txt,vector_size=embed_size, min_count=1, epochs=30,workers=1)#,compute_loss=True)\n",
        "model.build_vocab(train_txt,update=True)\n",
        "model.train(train_txt, total_examples=model.corpus_count, epochs=model.epochs)\n"
      ],
      "execution_count": 7,
      "outputs": [
        {
          "output_type": "stream",
          "text": [
            "[TaggedDocument(words=['ZLkp', 'xdE5', 'GRZz', 'wRvE', 'fZhn', 'nrKA', '2nEL', 'cutI', '4cBi', 'RqRA', 'tcau', 'jWkl', 'x6v9', 'Me8P', 'cyvr', 'UGdF', 'ZLkp', 'xdE5', 'GRZz', '24Nu', 'kAx1', 'VrUP', 'F6CA', 'yZUr', '24Nu', 'jvez', 'ycvM', 'F6CA', 'z2i6', 'pl5b', 'vQUg', 'r0eT'], tags=[0])]\n",
            "CPU times: user 15.6 s, sys: 404 ms, total: 16 s\n",
            "Wall time: 16 s\n"
          ],
          "name": "stdout"
        }
      ]
    },
    {
      "cell_type": "code",
      "metadata": {
        "id": "S3u-NIkmobHP",
        "outputId": "3e09ee0a-efcd-4a13-a2de-4e760e34a5f9",
        "colab": {
          "base_uri": "https://localhost:8080/",
          "height": 71
        }
      },
      "source": [
        "from google.colab import files\n",
        "model.save('Doc2vec_trained')\n",
        "files.download('Doc2vec_trained')\n",
        "\n"
      ],
      "execution_count": null,
      "outputs": [
        {
          "output_type": "stream",
          "text": [
            "/usr/local/lib/python3.6/dist-packages/smart_open/smart_open_lib.py:254: UserWarning: This function is deprecated, use smart_open.open instead. See the migration notes for details: https://github.com/RaRe-Technologies/smart_open/blob/master/README.rst#migrating-to-the-new-open-function\n",
            "  'See the migration notes for details: %s' % _MIGRATION_NOTES_URL\n"
          ],
          "name": "stderr"
        },
        {
          "output_type": "display_data",
          "data": {
            "application/javascript": [
              "\n",
              "    async function download(id, filename, size) {\n",
              "      if (!google.colab.kernel.accessAllowed) {\n",
              "        return;\n",
              "      }\n",
              "      const div = document.createElement('div');\n",
              "      const label = document.createElement('label');\n",
              "      label.textContent = `Downloading \"${filename}\": `;\n",
              "      div.appendChild(label);\n",
              "      const progress = document.createElement('progress');\n",
              "      progress.max = size;\n",
              "      div.appendChild(progress);\n",
              "      document.body.appendChild(div);\n",
              "\n",
              "      const buffers = [];\n",
              "      let downloaded = 0;\n",
              "\n",
              "      const channel = await google.colab.kernel.comms.open(id);\n",
              "      // Send a message to notify the kernel that we're ready.\n",
              "      channel.send({})\n",
              "\n",
              "      for await (const message of channel.messages) {\n",
              "        // Send a message to notify the kernel that we're ready.\n",
              "        channel.send({})\n",
              "        if (message.buffers) {\n",
              "          for (const buffer of message.buffers) {\n",
              "            buffers.push(buffer);\n",
              "            downloaded += buffer.byteLength;\n",
              "            progress.value = downloaded;\n",
              "          }\n",
              "        }\n",
              "      }\n",
              "      const blob = new Blob(buffers, {type: 'application/binary'});\n",
              "      const a = document.createElement('a');\n",
              "      a.href = window.URL.createObjectURL(blob);\n",
              "      a.download = filename;\n",
              "      div.appendChild(a);\n",
              "      a.click();\n",
              "      div.remove();\n",
              "    }\n",
              "  "
            ],
            "text/plain": [
              "<IPython.core.display.Javascript object>"
            ]
          },
          "metadata": {
            "tags": []
          }
        },
        {
          "output_type": "display_data",
          "data": {
            "application/javascript": [
              "download(\"download_cee2a065-cfb4-479e-8686-852f829c417e\", \"Doc2vec_trained\", 58236920)"
            ],
            "text/plain": [
              "<IPython.core.display.Javascript object>"
            ]
          },
          "metadata": {
            "tags": []
          }
        }
      ]
    },
    {
      "cell_type": "code",
      "metadata": {
        "id": "y8hWqajXohEN"
      },
      "source": [
        "tmp=case_milestones['NOTEDESCRIPTION'].values;pos=[]\n",
        "tmp_dict=dict(zip(challenge['id'].values,challenge['pos'].values))\n",
        "pos=[]\n",
        "gram=['ADP','PROPN','PUNCT','PRON','DET','CCONJ','AUX','SCONJ','SPACE','ADV']\n",
        "\n",
        "for val in tmp:\n",
        "    tmp1=[k for k in val.split(\" \")  if tmp_dict[k] not in gram and k not in id2_lemma['id'].values]\n",
        "    pos.append(model.infer_vector(tmp1))\n",
        "  \n",
        "df=pd.DataFrame(pos,columns=[str(val)+'_notesdesc' for val in range(0,embed_size)])\n",
        "df = reduce_mem_usage(df)\n",
        "df.to_csv('notesdesc_embed.csv')\n",
        "df\n"
      ],
      "execution_count": null,
      "outputs": []
    },
    {
      "cell_type": "code",
      "metadata": {
        "id": "6p4kFhp6xHXI"
      },
      "source": [
        "tmp=case_milestones['MILESTONESDESCRIPTION'].values;pos=[]\n",
        "tmp_dict=dict(zip(challenge['id'].values,challenge['pos'].values))\n",
        "pos=[]\n",
        "gram=['ADP','PROPN','PUNCT','PRON','DET','CCONJ','AUX','SCONJ','SPACE','ADV']\n",
        "\n",
        "for val in tmp:\n",
        "    tmp1=[k for k in val.split(\" \")  if tmp_dict[k] not in gram and k not in id2_lemma['id'].values]\n",
        "    pos.append(model.infer_vector(tmp1))\n",
        "  \n",
        "df=pd.DataFrame(pos,columns=[str(val)+'_milesdesc' for val in range(0,embed_size)])\n",
        "df = reduce_mem_usage(df)\n",
        "df.to_csv('notesdesc_embed.csv')\n",
        "\n"
      ],
      "execution_count": null,
      "outputs": []
    },
    {
      "cell_type": "code",
      "metadata": {
        "id": "scdx5b330PBJ"
      },
      "source": [
        "tmp=case_comments['NOTES'].values;pos=[]\n",
        "tmp_dict=dict(zip(challenge['id'].values,challenge['pos'].values))\n",
        "pos=[]\n",
        "gram=['ADP','PROPN','PUNCT','PRON','DET','CCONJ','AUX','SCONJ','SPACE','ADV']\n",
        "\n",
        "for val in tmp:\n",
        "    tmp1=[k for k in val.split(\" \")  if tmp_dict[k] not in gram and k not in id2_lemma['id'].values]\n",
        "    pos.append(model.infer_vector(tmp1))\n",
        "  \n",
        "\n",
        "\n",
        "df=pd.DataFrame(pos,columns=[str(val)+'_comment' for val in range(0,embed_size)])\n",
        "df = reduce_mem_usage(df)\n",
        "df.to_csv('comment_embed.csv')\n"
      ],
      "execution_count": null,
      "outputs": []
    }
  ]
}